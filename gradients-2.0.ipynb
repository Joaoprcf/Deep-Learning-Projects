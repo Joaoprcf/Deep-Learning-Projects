{
 "cells": [
  {
   "cell_type": "code",
   "execution_count": 3,
   "metadata": {},
   "outputs": [
    {
     "data": {
      "text/plain": [
       "'2.0.0-beta0'"
      ]
     },
     "execution_count": 3,
     "metadata": {},
     "output_type": "execute_result"
    }
   ],
   "source": [
    "import tensorflow as tf\n",
    "tf.compat.v1.set_random_seed(1)\n",
    "import numpy as np\n",
    "tf.__version__"
   ]
  },
  {
   "cell_type": "code",
   "execution_count": null,
   "metadata": {},
   "outputs": [],
   "source": []
  },
  {
   "cell_type": "code",
   "execution_count": 4,
   "metadata": {},
   "outputs": [],
   "source": [
    "class Model(object):\n",
    "  def __init__(self):\n",
    "    # Initialize variable to (5.0, 0.0)\n",
    "    # In practice, these should be initialized to random values.\n",
    "    self.W = tf.Variable(5.0)\n",
    "    self.b = tf.Variable(0.0)\n",
    "    \n",
    "  def __call__(self, x):\n",
    "    return self.W * x + self.b\n",
    "  \n",
    "model = Model()\n",
    "\n",
    "assert model(3.0).numpy() == 15.0\n",
    "\n"
   ]
  },
  {
   "cell_type": "code",
   "execution_count": null,
   "metadata": {},
   "outputs": [],
   "source": []
  },
  {
   "cell_type": "code",
   "execution_count": 5,
   "metadata": {},
   "outputs": [],
   "source": [
    "def loss(predicted_y, desired_y):\n",
    "    return tf.reduce_mean(tf.square(predicted_y - desired_y))\n"
   ]
  },
  {
   "cell_type": "code",
   "execution_count": 8,
   "metadata": {},
   "outputs": [],
   "source": [
    "TRUE_W = 3.0\n",
    "TRUE_b = 2.0\n",
    "NUM_EXAMPLES = 1000\n",
    "\n",
    "inputs  = tf.random.normal(shape=[NUM_EXAMPLES])\n",
    "noise   = tf.random.normal(shape=[NUM_EXAMPLES])\n",
    "outputs = inputs * TRUE_W + TRUE_b + noise # 3 x + 2 + noise()"
   ]
  },
  {
   "cell_type": "code",
   "execution_count": null,
   "metadata": {},
   "outputs": [],
   "source": []
  },
  {
   "cell_type": "code",
   "execution_count": 9,
   "metadata": {},
   "outputs": [
    {
     "data": {
      "image/png": "[encoded data removed]",
      "text/plain": [
       "<Figure size 432x288 with 1 Axes>"
      ]
     },
     "metadata": {
      "needs_background": "light"
     },
     "output_type": "display_data"
    }
   ],
   "source": [
    "import matplotlib.pyplot as plt\n",
    "%matplotlib inline\n",
    "plt.scatter(inputs, outputs, c='b')\n",
    "plt.scatter(inputs, model(inputs), c='r')\n",
    "plt.show()\n"
   ]
  },
  {
   "cell_type": "code",
   "execution_count": 10,
   "metadata": {},
   "outputs": [
    {
     "name": "stdout",
     "output_type": "stream",
     "text": [
      "Current loss: \n",
      "9.472986\n"
     ]
    }
   ],
   "source": [
    "print('Current loss: '),\n",
    "print(loss(model(inputs), outputs).numpy())\n",
    "current_loss = loss(model(inputs), outputs)"
   ]
  },
  {
   "cell_type": "code",
   "execution_count": null,
   "metadata": {},
   "outputs": [],
   "source": []
  },
  {
   "cell_type": "code",
   "execution_count": 19,
   "metadata": {},
   "outputs": [
    {
     "name": "stdout",
     "output_type": "stream",
     "text": [
      "[<tf.Tensor: id=8574, shape=(), dtype=float32, numpy=0.010382684>, <tf.Tensor: id=8567, shape=(), dtype=float32, numpy=-0.0016168058>]\n"
     ]
    }
   ],
   "source": [
    "trainable_variables = [model.W, model.b]\n",
    "with tf.GradientTape() as tape:\n",
    "    current_loss = loss(model(inputs), outputs)\n",
    "gradients = tape.gradient(current_loss, trainable_variables) \n",
    "print(gradients)\n"
   ]
  },
  {
   "cell_type": "code",
   "execution_count": null,
   "metadata": {},
   "outputs": [],
   "source": []
  },
  {
   "cell_type": "code",
   "execution_count": 25,
   "metadata": {},
   "outputs": [],
   "source": [
    "\n",
    "def train2(model, inputs, outputs, learning_rate):\n",
    "    trainable_variables = [model.W, model.b]\n",
    "    with tf.GradientTape() as t:\n",
    "        current_loss = loss(model(inputs), outputs)\n",
    "    optimizer = tf.keras.optimizers.Adam(learning_rate, beta_1=0.9, beta_2=0.98, \n",
    "                                         epsilon=1e-9)\n",
    "    gradients = t.gradient(current_loss,  trainable_variables)    \n",
    "    optimizer.apply_gradients(zip(gradients, trainable_variables))\n",
    "    \n",
    "#-----------------------------------------------------------------------------------------------\n",
    "\n",
    "optimizer_global = tf.keras.optimizers.Adam(learning_rate=0.1, beta_1=0.9, beta_2=0.98, \n",
    "                                         epsilon=1e-9)\n",
    "def train(model, inputs, outputs, learning_rate):\n",
    "    trainable_variables = [model.W, model.b]\n",
    "    with tf.GradientTape() as t:\n",
    "        current_loss = loss(model(inputs), outputs)\n",
    "    \n",
    "    gradients = t.gradient(current_loss,  trainable_variables)    \n",
    "    optimizer_global.apply_gradients(zip(gradients, trainable_variables))\n",
    "\n"
   ]
  },
  {
   "cell_type": "code",
   "execution_count": 26,
   "metadata": {},
   "outputs": [
    {
     "name": "stdout",
     "output_type": "stream",
     "text": [
      "Epoch  0: W=5.00 b=0.00, loss=9.47299\n",
      "Epoch  1: W=4.90 b=0.10, loss=8.65627\n",
      "Epoch  2: W=4.80 b=0.20, loss=7.88202\n",
      "Epoch  3: W=4.70 b=0.30, loss=7.15082\n",
      "Epoch  4: W=4.60 b=0.40, loss=6.46311\n",
      "Epoch  5: W=4.50 b=0.50, loss=5.81925\n",
      "Epoch  6: W=4.40 b=0.60, loss=5.21942\n",
      "Epoch  7: W=4.31 b=0.69, loss=4.66368\n",
      "Epoch  8: W=4.21 b=0.79, loss=4.15189\n",
      "Epoch  9: W=4.12 b=0.89, loss=3.68375\n",
      "Epoch 10: W=4.02 b=0.98, loss=3.25875\n",
      "Epoch 11: W=3.93 b=1.07, loss=2.87617\n",
      "Epoch 12: W=3.84 b=1.16, loss=2.53505\n",
      "Epoch 13: W=3.75 b=1.25, loss=2.23421\n",
      "Epoch 14: W=3.66 b=1.34, loss=1.97221\n",
      "Epoch 15: W=3.58 b=1.43, loss=1.74736\n",
      "Epoch 16: W=3.50 b=1.51, loss=1.55774\n",
      "Epoch 17: W=3.42 b=1.59, loss=1.40114\n",
      "Epoch 18: W=3.34 b=1.67, loss=1.27517\n",
      "Epoch 19: W=3.27 b=1.74, loss=1.17721\n",
      "Epoch 20: W=3.20 b=1.81, loss=1.10444\n",
      "Epoch 21: W=3.14 b=1.88, loss=1.05394\n",
      "Epoch 22: W=3.08 b=1.94, loss=1.02266\n",
      "Epoch 23: W=3.02 b=2.00, loss=1.00754\n",
      "Epoch 24: W=2.97 b=2.05, loss=1.00553\n",
      "Epoch 25: W=2.92 b=2.10, loss=1.01367\n",
      "Epoch 26: W=2.88 b=2.14, loss=1.02915\n",
      "Epoch 27: W=2.85 b=2.18, loss=1.04936\n",
      "Epoch 28: W=2.81 b=2.22, loss=1.07199\n",
      "Epoch 29: W=2.79 b=2.25, loss=1.09499\n",
      "Epoch 30: W=2.76 b=2.28, loss=1.11668\n",
      "Epoch 31: W=2.75 b=2.30, loss=1.13573\n",
      "Epoch 32: W=2.74 b=2.31, loss=1.15117\n",
      "Epoch 33: W=2.73 b=2.33, loss=1.16236\n",
      "Epoch 34: W=2.72 b=2.33, loss=1.16900\n",
      "Epoch 35: W=2.72 b=2.34, loss=1.17107\n",
      "Epoch 36: W=2.73 b=2.34, loss=1.16880\n",
      "Epoch 37: W=2.73 b=2.33, loss=1.16260\n",
      "Epoch 38: W=2.74 b=2.33, loss=1.15307\n",
      "Epoch 39: W=2.76 b=2.32, loss=1.14086\n",
      "Epoch 40: W=2.77 b=2.30, loss=1.12670\n",
      "Epoch 41: W=2.79 b=2.29, loss=1.11134\n",
      "Epoch 42: W=2.81 b=2.27, loss=1.09549\n",
      "Epoch 43: W=2.83 b=2.26, loss=1.07979\n",
      "Epoch 44: W=2.85 b=2.24, loss=1.06483\n",
      "Epoch 45: W=2.87 b=2.22, loss=1.05106\n",
      "Epoch 46: W=2.89 b=2.20, loss=1.03884\n",
      "Epoch 47: W=2.91 b=2.18, loss=1.02843\n",
      "Epoch 48: W=2.93 b=2.15, loss=1.01994\n",
      "Epoch 49: W=2.96 b=2.13, loss=1.01341\n",
      "Epoch 50: W=2.97 b=2.11, loss=1.00875\n",
      "Epoch 51: W=2.99 b=2.10, loss=1.00581\n",
      "Epoch 52: W=3.01 b=2.08, loss=1.00437\n",
      "Epoch 53: W=3.03 b=2.06, loss=1.00418\n",
      "Epoch 54: W=3.04 b=2.05, loss=1.00495\n",
      "Epoch 55: W=3.05 b=2.03, loss=1.00639\n",
      "Epoch 56: W=3.06 b=2.02, loss=1.00822\n",
      "Epoch 57: W=3.07 b=2.01, loss=1.01018\n",
      "Epoch 58: W=3.08 b=2.00, loss=1.01206\n",
      "Epoch 59: W=3.08 b=1.99, loss=1.01368\n",
      "Epoch 60: W=3.09 b=1.99, loss=1.01493\n",
      "Epoch 61: W=3.09 b=1.98, loss=1.01571\n",
      "Epoch 62: W=3.09 b=1.98, loss=1.01601\n",
      "Epoch 63: W=3.09 b=1.98, loss=1.01584\n",
      "Epoch 64: W=3.08 b=1.98, loss=1.01525\n",
      "Epoch 65: W=3.08 b=1.98, loss=1.01430\n",
      "Epoch 66: W=3.07 b=1.99, loss=1.01309\n",
      "Epoch 67: W=3.07 b=1.99, loss=1.01172\n",
      "Epoch 68: W=3.06 b=2.00, loss=1.01028\n",
      "Epoch 69: W=3.06 b=2.00, loss=1.00887\n",
      "Epoch 70: W=3.05 b=2.01, loss=1.00757\n",
      "Epoch 71: W=3.04 b=2.02, loss=1.00643\n",
      "Epoch 72: W=3.03 b=2.02, loss=1.00549\n",
      "Epoch 73: W=3.02 b=2.03, loss=1.00478\n",
      "Epoch 74: W=3.02 b=2.04, loss=1.00429\n",
      "Epoch 75: W=3.01 b=2.04, loss=1.00402\n",
      "Epoch 76: W=3.01 b=2.05, loss=1.00393\n",
      "Epoch 77: W=3.00 b=2.06, loss=1.00399\n",
      "Epoch 78: W=2.99 b=2.06, loss=1.00416\n",
      "Epoch 79: W=2.99 b=2.07, loss=1.00438\n",
      "Epoch 80: W=2.99 b=2.07, loss=1.00463\n",
      "Epoch 81: W=2.99 b=2.07, loss=1.00486\n",
      "Epoch 82: W=2.98 b=2.08, loss=1.00505\n",
      "Epoch 83: W=2.98 b=2.08, loss=1.00518\n",
      "Epoch 84: W=2.98 b=2.08, loss=1.00524\n",
      "Epoch 85: W=2.98 b=2.08, loss=1.00523\n",
      "Epoch 86: W=2.99 b=2.08, loss=1.00516\n",
      "Epoch 87: W=2.99 b=2.08, loss=1.00503\n",
      "Epoch 88: W=2.99 b=2.08, loss=1.00486\n",
      "Epoch 89: W=2.99 b=2.08, loss=1.00468\n",
      "Epoch 90: W=2.99 b=2.07, loss=1.00449\n",
      "Epoch 91: W=3.00 b=2.07, loss=1.00432\n",
      "Epoch 92: W=3.00 b=2.07, loss=1.00416\n",
      "Epoch 93: W=3.00 b=2.07, loss=1.00405\n",
      "Epoch 94: W=3.01 b=2.06, loss=1.00396\n",
      "Epoch 95: W=3.01 b=2.06, loss=1.00391\n",
      "Epoch 96: W=3.01 b=2.06, loss=1.00389\n",
      "Epoch 97: W=3.01 b=2.06, loss=1.00390\n",
      "Epoch 98: W=3.02 b=2.05, loss=1.00393\n",
      "Epoch 99: W=3.02 b=2.05, loss=1.00397\n"
     ]
    },
    {
     "data": {
      "image/png": "[encoded data removed]",
      "text/plain": [
       "<Figure size 432x288 with 1 Axes>"
      ]
     },
     "metadata": {
      "needs_background": "light"
     },
     "output_type": "display_data"
    }
   ],
   "source": [
    "model = Model()\n",
    "\n",
    "# Collect the history of W-values and b-values to plot later\n",
    "Ws, bs = [], []\n",
    "epochs = range(100)\n",
    "for epoch in epochs:\n",
    "  Ws.append(model.W.numpy())\n",
    "  bs.append(model.b.numpy())\n",
    "  current_loss = loss(model(inputs), outputs)\n",
    "\n",
    "  train(model, inputs, outputs, learning_rate=0.1)\n",
    "  print('Epoch %2d: W=%1.2f b=%1.2f, loss=%2.5f' %\n",
    "        (epoch, Ws[-1], bs[-1], current_loss))\n",
    "\n",
    "# Let's plot it all\n",
    "plt.plot(epochs, Ws, 'r',\n",
    "         epochs, bs, 'b')\n",
    "plt.plot([TRUE_W] * len(epochs), 'r--',\n",
    "         [TRUE_b] * len(epochs), 'b--')\n",
    "plt.legend(['W', 'b', 'true W', 'true_b'])\n",
    "plt.show()\n",
    "  "
   ]
  },
  {
   "cell_type": "code",
   "execution_count": null,
   "metadata": {},
   "outputs": [],
   "source": []
  },
  {
   "cell_type": "code",
   "execution_count": 27,
   "metadata": {},
   "outputs": [
    {
     "name": "stdout",
     "output_type": "stream",
     "text": [
      "Epoch  0: W=5.00 b=0.00, loss=9.47299\n",
      "Epoch  1: W=4.90 b=0.10, loss=8.65627\n",
      "Epoch  2: W=4.80 b=0.20, loss=7.88097\n",
      "Epoch  3: W=4.70 b=0.30, loss=7.14708\n",
      "Epoch  4: W=4.60 b=0.40, loss=6.45460\n",
      "Epoch  5: W=4.50 b=0.50, loss=5.80353\n",
      "Epoch  6: W=4.40 b=0.60, loss=5.19388\n",
      "Epoch  7: W=4.30 b=0.70, loss=4.62563\n",
      "Epoch  8: W=4.20 b=0.80, loss=4.09880\n",
      "Epoch  9: W=4.10 b=0.90, loss=3.61339\n",
      "Epoch 10: W=4.00 b=1.00, loss=3.16938\n",
      "Epoch 11: W=3.90 b=1.10, loss=2.76679\n",
      "Epoch 12: W=3.80 b=1.20, loss=2.40561\n",
      "Epoch 13: W=3.70 b=1.30, loss=2.08584\n",
      "Epoch 14: W=3.60 b=1.40, loss=1.80749\n",
      "Epoch 15: W=3.50 b=1.50, loss=1.57054\n",
      "Epoch 16: W=3.40 b=1.60, loss=1.37501\n",
      "Epoch 17: W=3.30 b=1.70, loss=1.22089\n",
      "Epoch 18: W=3.20 b=1.80, loss=1.10819\n",
      "Epoch 19: W=3.10 b=1.90, loss=1.03689\n",
      "Epoch 20: W=3.00 b=2.00, loss=1.00701\n",
      "Epoch 21: W=3.10 b=2.10, loss=1.01405\n",
      "Epoch 22: W=3.00 b=2.00, loss=1.00701\n",
      "Epoch 23: W=3.10 b=2.10, loss=1.01405\n",
      "Epoch 24: W=3.00 b=2.00, loss=1.00701\n",
      "Epoch 25: W=3.10 b=2.10, loss=1.01405\n",
      "Epoch 26: W=3.00 b=2.00, loss=1.00701\n",
      "Epoch 27: W=3.10 b=2.10, loss=1.01405\n",
      "Epoch 28: W=3.00 b=2.00, loss=1.00701\n",
      "Epoch 29: W=3.10 b=2.10, loss=1.01405\n",
      "Epoch 30: W=3.00 b=2.00, loss=1.00701\n",
      "Epoch 31: W=3.10 b=2.10, loss=1.01405\n",
      "Epoch 32: W=3.00 b=2.00, loss=1.00701\n",
      "Epoch 33: W=3.10 b=2.10, loss=1.01405\n",
      "Epoch 34: W=3.00 b=2.00, loss=1.00701\n",
      "Epoch 35: W=3.10 b=2.10, loss=1.01405\n",
      "Epoch 36: W=3.00 b=2.00, loss=1.00701\n",
      "Epoch 37: W=3.10 b=2.10, loss=1.01405\n",
      "Epoch 38: W=3.00 b=2.00, loss=1.00701\n",
      "Epoch 39: W=3.10 b=2.10, loss=1.01405\n",
      "Epoch 40: W=3.00 b=2.00, loss=1.00701\n",
      "Epoch 41: W=3.10 b=2.10, loss=1.01405\n",
      "Epoch 42: W=3.00 b=2.00, loss=1.00701\n",
      "Epoch 43: W=3.10 b=2.10, loss=1.01405\n",
      "Epoch 44: W=3.00 b=2.00, loss=1.00701\n",
      "Epoch 45: W=3.10 b=2.10, loss=1.01405\n",
      "Epoch 46: W=3.00 b=2.00, loss=1.00701\n",
      "Epoch 47: W=3.10 b=2.10, loss=1.01405\n",
      "Epoch 48: W=3.00 b=2.00, loss=1.00701\n",
      "Epoch 49: W=3.10 b=2.10, loss=1.01405\n",
      "Epoch 50: W=3.00 b=2.00, loss=1.00701\n",
      "Epoch 51: W=3.10 b=2.10, loss=1.01405\n",
      "Epoch 52: W=3.00 b=2.00, loss=1.00701\n",
      "Epoch 53: W=3.10 b=2.10, loss=1.01405\n",
      "Epoch 54: W=3.00 b=2.00, loss=1.00701\n",
      "Epoch 55: W=3.10 b=2.10, loss=1.01405\n",
      "Epoch 56: W=3.00 b=2.00, loss=1.00701\n",
      "Epoch 57: W=3.10 b=2.10, loss=1.01405\n",
      "Epoch 58: W=3.00 b=2.00, loss=1.00701\n",
      "Epoch 59: W=3.10 b=2.10, loss=1.01405\n",
      "Epoch 60: W=3.00 b=2.00, loss=1.00701\n",
      "Epoch 61: W=3.10 b=2.10, loss=1.01405\n",
      "Epoch 62: W=3.00 b=2.00, loss=1.00701\n",
      "Epoch 63: W=3.10 b=2.10, loss=1.01405\n",
      "Epoch 64: W=3.00 b=2.00, loss=1.00701\n",
      "Epoch 65: W=3.10 b=2.10, loss=1.01405\n",
      "Epoch 66: W=3.00 b=2.00, loss=1.00701\n",
      "Epoch 67: W=3.10 b=2.10, loss=1.01405\n",
      "Epoch 68: W=3.00 b=2.00, loss=1.00701\n",
      "Epoch 69: W=3.10 b=2.10, loss=1.01405\n",
      "Epoch 70: W=3.00 b=2.00, loss=1.00701\n",
      "Epoch 71: W=3.10 b=2.10, loss=1.01405\n",
      "Epoch 72: W=3.00 b=2.00, loss=1.00701\n",
      "Epoch 73: W=3.10 b=2.10, loss=1.01405\n",
      "Epoch 74: W=3.00 b=2.00, loss=1.00701\n",
      "Epoch 75: W=3.10 b=2.10, loss=1.01405\n",
      "Epoch 76: W=3.00 b=2.00, loss=1.00701\n",
      "Epoch 77: W=3.10 b=2.10, loss=1.01405\n",
      "Epoch 78: W=3.00 b=2.00, loss=1.00701\n",
      "Epoch 79: W=3.10 b=2.10, loss=1.01405\n",
      "Epoch 80: W=3.00 b=2.00, loss=1.00701\n",
      "Epoch 81: W=3.10 b=2.10, loss=1.01405\n",
      "Epoch 82: W=3.00 b=2.00, loss=1.00701\n",
      "Epoch 83: W=3.10 b=2.10, loss=1.01405\n",
      "Epoch 84: W=3.00 b=2.00, loss=1.00701\n",
      "Epoch 85: W=3.10 b=2.10, loss=1.01405\n",
      "Epoch 86: W=3.00 b=2.00, loss=1.00701\n",
      "Epoch 87: W=3.10 b=2.10, loss=1.01405\n",
      "Epoch 88: W=3.00 b=2.00, loss=1.00701\n",
      "Epoch 89: W=3.10 b=2.10, loss=1.01405\n",
      "Epoch 90: W=3.00 b=2.00, loss=1.00701\n",
      "Epoch 91: W=3.10 b=2.10, loss=1.01405\n",
      "Epoch 92: W=3.00 b=2.00, loss=1.00701\n",
      "Epoch 93: W=3.10 b=2.10, loss=1.01405\n",
      "Epoch 94: W=3.00 b=2.00, loss=1.00701\n",
      "Epoch 95: W=3.10 b=2.10, loss=1.01405\n",
      "Epoch 96: W=3.00 b=2.00, loss=1.00701\n",
      "Epoch 97: W=3.10 b=2.10, loss=1.01405\n",
      "Epoch 98: W=3.00 b=2.00, loss=1.00701\n",
      "Epoch 99: W=3.10 b=2.10, loss=1.01405\n"
     ]
    },
    {
     "data": {
      "image/png": "[encoded data removed]",
      "text/plain": [
       "<Figure size 432x288 with 1 Axes>"
      ]
     },
     "metadata": {
      "needs_background": "light"
     },
     "output_type": "display_data"
    }
   ],
   "source": [
    "model = Model()\n",
    "\n",
    "# Collect the history of W-values and b-values to plot later\n",
    "Ws, bs = [], []\n",
    "epochs = range(100)\n",
    "for epoch in epochs:\n",
    "  Ws.append(model.W.numpy())\n",
    "  bs.append(model.b.numpy())\n",
    "  current_loss = loss(model(inputs), outputs)\n",
    "\n",
    "  train2(model, inputs, outputs, learning_rate=0.1)\n",
    "  print('Epoch %2d: W=%1.2f b=%1.2f, loss=%2.5f' %\n",
    "        (epoch, Ws[-1], bs[-1], current_loss))\n",
    "\n",
    "# Let's plot it all\n",
    "plt.plot(epochs, Ws, 'r',\n",
    "         epochs, bs, 'b')\n",
    "plt.plot([TRUE_W] * len(epochs), 'r--',\n",
    "         [TRUE_b] * len(epochs), 'b--')\n",
    "plt.legend(['W', 'b', 'true W', 'true_b'])\n",
    "plt.show()\n",
    "  "
   ]
  },
  {
   "cell_type": "code",
   "execution_count": null,
   "metadata": {},
   "outputs": [],
   "source": []
  }
 ],
 "metadata": {
  "kernelspec": {
   "display_name": "Python 3",
   "language": "python",
   "name": "python3"
  },
  "language_info": {
   "codemirror_mode": {
    "name": "ipython",
    "version": 3
   },
   "file_extension": ".py",
   "mimetype": "text/x-python",
   "name": "python",
   "nbconvert_exporter": "python",
   "pygments_lexer": "ipython3",
   "version": "3.7.3"
  }
 },
 "nbformat": 4,
 "nbformat_minor": 2
}
